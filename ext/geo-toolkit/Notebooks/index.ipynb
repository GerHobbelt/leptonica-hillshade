{
 "cells": [
  {
   "cell_type": "markdown",
   "metadata": {},
   "source": [
    "<a href=\"http://toolkit.geosci.xyz\"><img src=\"./images/ToolkitLogo.png\" alt=\"http://toolkit.geosci.xyz\" align=\"right\" width=\"400\"></a>\n",
    "\n",
    "\n",
    "# Geophysical Toolkit for Geologists\n",
    "\n",
    "\n",
    "This collection of notebooks guides users through manipulation of magnetic data via synthetic and real-life examples. The UserData notebook allows geoscientists to upload and explore their own magentic data. Associated material can be found in the <a href=\"http://toolkit.geosci.xyz\">GeoToolKit: Geophysical Toolkit for Geologists</a>.\n",
    "\n",
    "\n",
    "- <a href=\"http://geosci.xyz/contact\">Contact us</a>\n",
    "- <a href=\"https://github.com/geoscixyz/Toolkit/issues\">Report issues</a>\n",
    "- <a href=\"https://github.com/geoscixyz/Toolkit/\">Join the development</a>\n",
    "\n",
    "## Contents\n",
    "\n",
    "<a href=\"http://toolkit.geosci.xyz/docs/content/Demos/SyntheticExample.html\"><img src=\"http://toolkit.geosci.xyz/_images/SyntheticModel.png\" alt=\"http://toolkit.geosci.xyz\" align=\"right\" width=\"300\"></a>\n",
    "\n",
    "### Synthetic dataset\n",
    "- <a href=\"2_1_1_a_Synthetic_Mag_Data_Profile.ipynb\">2_1_1_a_Synthetic_Mag_Data_Profile.ipynb</a> - Profile the synthetic magnetic data\n",
    "- <a href=\"2_1_1_b_Synthetic_Mag_Data_Mag_Field.ipynb\">2_1_1_b_Synthetic_Mag_Data_Mag_Field.ipynb</a> - Explore the induced response at different locations around the world\n",
    "- <a href=\"2_1_2_Synthetic_Data_Gridding.ipynb\">2_1_2_Synthetic_Data_Gridding.ipynb</a> - Grid the synthetic survey lines\n",
    "- <a href=\"2_1_3_Synthetic_Mag_Data_Visualization.ipynb\">2_1_3_Synthetic_Mag_Data_Visualization.ipynb</a> - Add sun-shading, explore color maps, and apply contours to the synthetic data\n",
    "- <a href=\"2_1_4_Synthetic_Mag_Data_Filters.ipynb\">2_1_4_Synthetic_Mag_Data_Filters.ipynb</a> - Try different derivative filters on the gridded synthetic data\n",
    "- <a href=\"2_1_5_Synthetic_Mag_Data_DepthSource.ipynb\">2_1_5_Synthetic_Mag_Data_DepthSource.ipynb</a> - Estimate the depth of synthetic blocks\n",
    "\n",
    "<a href=\"http://toolkit.geosci.xyz/content/Demos/SyntheticExample.html\"><img src=\"http://toolkit.geosci.xyz/_images/SearchQuestII.png\" alt=\"http://toolkit.geosci.xyz\" align=\"right\" width=\"200\"></a>\n",
    "\n",
    "### Geoscience BC - Search dataset\n",
    "- <a href=\"2_2_1_Search_Mag_Data_Visualization.ipynb\">2_2_1_Search_Mag_Data_Visualization.ipynb</a> - Profile the Search magnetic data\n",
    "- <a href=\"2_2_2_Search_Mag_Data_Filters.ipynb\">2_2_2_Search_Mag_Data_Filters.ipynb</a> - Try different derivative filters on the Search data\n",
    "- <a href=\"2_2_3_Search_MAg_Data_DepthSource.ipynb\">2_2_3_Search_MAg_Data_DepthSource.ipynb</a> - Estimate the depth to source\n",
    "\n",
    "### User dataset\n",
    "- <a href=\"3_1_UserData.ipynb\">3_1_UserData.ipynb</a> - Load and explore data stored locally or in the Cloud\n",
    "\n",
    "<a href=\"http://toolkit.geosci.xyz/content/Demos/SyntheticExample.html\"><img src=\"./images/UserDefine_GE.png\" alt=\"http://toolkit.geosci.xyz\" align=\"left\" width=\"300\"></a>"
   ]
  },
  {
   "cell_type": "markdown",
   "metadata": {},
   "source": [
    "<center><a rel=\"license\" href=\"http://creativecommons.org/licenses/by/4.0/\"><img alt=\"Creative Commons License\" style=\"border-width:0\" width=60 src=\"https://i.creativecommons.org/l/by/4.0/88x31.png\" /></a> \n",
    "\n",
    "This work is licensed under a <a rel=\"license\" href=\"http://creativecommons.org/licenses/by/4.0/\">Creative Commons Attribution 4.0 International License</a>.</center>"
   ]
  }
 ],
 "metadata": {
  "anaconda-cloud": {},
  "kernelspec": {
   "display_name": "Python 3",
   "language": "python",
   "name": "python3"
  },
  "language_info": {
   "codemirror_mode": {
    "name": "ipython",
    "version": 3
   },
   "file_extension": ".py",
   "mimetype": "text/x-python",
   "name": "python",
   "nbconvert_exporter": "python",
   "pygments_lexer": "ipython3",
   "version": "3.6.4"
  }
 },
 "nbformat": 4,
 "nbformat_minor": 1
}
