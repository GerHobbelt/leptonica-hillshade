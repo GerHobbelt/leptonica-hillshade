{
 "cells": [
  {
   "cell_type": "markdown",
   "metadata": {},
   "source": [
    "# 2.1.1.\tSynthetic - Magnetic Data Response#\n"
   ]
  },
  {
   "cell_type": "markdown",
   "metadata": {},
   "source": [
    "## Magnetic response of a simple geologic model\n",
    "\n",
    "![synthmodel](./images/SyntheticModel.png)\n",
    "\n",
    "The magnetic response (total field anomaly in nanoteslas) of the geologic model above is shown in plan view and profile view below. \n",
    "\n",
    "Try changing the profile location to see the effect on the profile. The profile location can be changed using the slider bars (labelled East, North, Azimuth, and Length), and the number of sampling points can be varied by typing a number into the box labelled 'Sampling'.\n"
   ]
  },
  {
   "cell_type": "code",
   "execution_count": null,
   "metadata": {},
   "outputs": [],
   "source": [
    "## Load all libraries and setup the synthetic problem\n",
    "from library.Mag import Mag, ProblemSetter, MathUtils, Simulator, DataIO\n",
    "\n",
    "\n",
    "# Load data and topo and build default model\n",
    "workDir = '../../Notebooks/assets/Synthetic/'\n",
    "fName = 'DataGrid.tiff'\n",
    "\n",
    "dataGrid = DataIO.loadGeoTiffFile(workDir+fName, plotIt=True)"
   ]
  },
  {
   "cell_type": "code",
   "execution_count": null,
   "metadata": {},
   "outputs": [],
   "source": [
    "param = Simulator.ViewMagSurveyWidget(dataGrid)\n",
    "display(param)"
   ]
  },
  {
   "cell_type": "markdown",
   "metadata": {},
   "source": [
    "## Magnetic field effect on response\n",
    "\n",
    "As discussed in Section 1 on the Toolkit website (Magnetic Data - Background), the magnetic response will depend on the inclination, declination, and field strength of the magnetic field at the survey location. Use the drop down menu below, which looks like this, ![locationDrop](./images/location_dropdown2_20per_ppt.PNG) to explore the range of responses (Total Magnetic Intensity) that would be measured if this same geologic (and magnetic rock properties) scenario existed at different locations on Earth (sites represent current Mineral Deposit Research Unit project sites, plus other locations to provide coverage). The red arrow at the bottom: ![incDecArrow](./images/arrow_location_10per_ppt.PNG) illustrates the inclination and declination of the chosen location. \n",
    "Notice how data collected at very low latitudes near the magnetic equator (e.g. Chile and Peru locations) show magnetic anomlies offset significantly from their source due to the near-horizontal magnetic inclinations existing at these locations. TMI data from these very low latitude locations are very difficult to interpret, and additional processing or filtering is typically necessary. "
   ]
  },
  {
   "cell_type": "code",
   "execution_count": null,
   "metadata": {},
   "outputs": [],
   "source": [
    "import json\n",
    "# cities = shapefile.Reader('./assets/worldShapefile/ne_10m_populated_places_simple.shp')\n",
    "worldFile = '../../Notebooks/assets/Continents/continent.shp'\n",
    "\n",
    "# Load in the pre-defined locations\n",
    "with open('../../Notebooks/assets/MAGlocations_w_field.json', 'r') as fp:\n",
    "    sites = json.load(fp)\n",
    "\n",
    "view = Simulator.worldViewerWidget(worldFile, sites, dataGrid)\n",
    "display(view)"
   ]
  },
  {
   "cell_type": "markdown",
   "metadata": {},
   "source": [
    " "
   ]
  }
 ],
 "metadata": {
  "kernelspec": {
   "display_name": "Python 3",
   "language": "python",
   "name": "python3"
  },
  "language_info": {
   "codemirror_mode": {
    "name": "ipython",
    "version": 3
   },
   "file_extension": ".py",
   "mimetype": "text/x-python",
   "name": "python",
   "nbconvert_exporter": "python",
   "pygments_lexer": "ipython3",
   "version": "3.6.4"
  }
 },
 "nbformat": 4,
 "nbformat_minor": 2
}
