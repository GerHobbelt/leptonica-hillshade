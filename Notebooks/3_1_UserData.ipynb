{
 "cells": [
  {
   "cell_type": "markdown",
   "metadata": {},
   "source": [
    "# 3.1.  User Data - Download, grid, explore\n",
    "\n"
   ]
  },
  {
   "cell_type": "markdown",
   "metadata": {},
   "source": [
    "As you proceed through each step below, select each cell (greyed boxes) and press **[Shift+Enter]**, or select each cell and click on the **'Run'** button in the menu at the top of the notebook. ![runcell](./images/runcell_30per_ppt.PNG)\n",
    "\n",
    "Before uploading your own data to work with, we will run the first cell below to install the Geosoft GX API module for Python so that we have the ability to use Geosoft .grd files. **Geosoft API only available for Windows users, and only if the Toolkit is installed locally. See [installation page](http://toolkit.geosci.xyz/content/installation.html#installation) for instructions.** Tiff and CSV file import is available for all users whether working online or locally."
   ]
  },
  {
   "cell_type": "code",
   "execution_count": null,
   "metadata": {},
   "outputs": [],
   "source": [
    "import os\n",
    "if os.name == 'nt':\n",
    "    !pip install geosoft"
   ]
  },
  {
   "cell_type": "markdown",
   "metadata": {},
   "source": [
    "Please run the below cell to import other required GeoToolkit libraries."
   ]
  },
  {
   "cell_type": "code",
   "execution_count": null,
   "metadata": {},
   "outputs": [],
   "source": [
    "from GeoToolkit.Mag import Mag, ProblemSetter, MathUtils, Simulator, DataIO"
   ]
  },
  {
   "cell_type": "markdown",
   "metadata": {},
   "source": [
    "# Fetch data from cloud or local drive\n",
    "\n",
    "To upload your own data, run the notebook cell below this section.\n",
    "\n",
    "You can retrieve your data from a cloud source or locate the data locally on your computer. \n",
    "\n",
    "You are restricted here to working with **CSV**, **GeoTiff**, or **Geosoft .grd** files. Ensure that the link you provide to the data directs you to one of these file types. \n",
    "\n",
    "**Cloud option**\n",
    "------------------\n",
    "\n",
    "Specify the url of the file to download. For personal repository (Dropbox, GoogleDrive), first generate a sharable link:\n",
    "\n",
    "The path should end with the following string \"?dl=0\" such as:\n",
    "\n",
    "\"https://www.dropbox.com/s/keggwmaal6wj1rh/Synthetic_Forward_TMI.dat?dl=0\"\n",
    "\n",
    "Alternatively, the url of the file from a download page:\n",
    "\n",
    "\"http://cdn.geosciencebc.com/project_data/GBC_Report2012-2/GBCR2012-2_Grids.zip\"\n",
    "\n",
    "Copy the link or the url into the **'path'** box.\n",
    "\n",
    "\n",
    "**Local drive option**\n",
    "-------------------------\n",
    "\n",
    "Copy the link to the location into the **'Path'** box. E.g.:\n",
    "\n",
    "\"C:\\Users\\mdru\\Documents\\Git\\Toolkit\\Notebooks\\assets\\Search\"\n",
    "\n",
    "The file can be located anywhere on the computer.\n",
    "\n",
    "\n",
    "***Warning***\n",
    "\n",
    "Geosoft .grd file format is only available for Windows users, and only if the Toolkit is locally installed. If you wish to use .grd files, please [install the Toolkit](http://toolkit.geosci.xyz/content/installation.html#installation) on your PC.\n",
    "\n",
    "![upload_instructions](./images/instructions_loading_data_40per_ppt.png)"
   ]
  },
  {
   "cell_type": "markdown",
   "metadata": {},
   "source": [
    "Run the cell below, an example dataset has been provided for you to try out. Follow the above process using the pre-filled Path below. "
   ]
  },
  {
   "cell_type": "code",
   "execution_count": null,
   "metadata": {
    "scrolled": false
   },
   "outputs": [],
   "source": [
    "download = DataIO.fetchData(path=\"https://www.dropbox.com/s/1bgkqqm8j300in8/BC_mag_data_geotiff.zip?dl=0\", localCloud='Cloud')\n",
    "display(download)"
   ]
  },
  {
   "cell_type": "markdown",
   "metadata": {},
   "source": [
    "# Assign coordinate system and Earth's field parameters\n",
    "\n",
    "Run the cell below to see the data. It may take a moment to appear. If you have submitted CSV data you will be prompted to grid it.\n",
    "\n",
    "***Warning*** For CSV file format: MinimumCurvature interpolation is computationally expensive. For CSV > 10,000 data points, consider downsampling prior to uploading the data.\n",
    "\n",
    "You will need to assign the correct coordinate system for your dataset (the coordinate system your data was collected in), using an EPSG code. The EPSG code will be automatically loaded below if the file is a GeoTiff or a .grd file. EPSG codes can easily be found with a Google search (e.g. EPSG UTM Zone 09 N => 26909).\n",
    "\n",
    "In order to reduce the data to pole (which you need to do for certain applications like tilt-depth estimation), you must include the inclination and declination. This information may be available in associated data collection and processing reports, and is specific to the date and location of the magnetic survey. If it is not available, you can use the Fetch Inc/Dec button to find an approximate inclination and declination for that geographic region over a range of time. The user can choose the inclination and declination for a specific year or pick average values from those recorded between 2000 and 2018. ***Important***: the EPSG code needs to be set correctly to ensure the appropriate inclination and declination data are fetched. \n",
    "\n",
    "***Warning*** If you are testing out the example EMAG2 dataset, reducing to pole will require too much time, as the dataset is very large. It is advised to skip the RTP step for this example dataset. \n",
    "\n",
    "\n",
    "![set_inc_dec](./images/incl_decl_40per_ppt.png)\n"
   ]
  },
  {
   "cell_type": "code",
   "execution_count": null,
   "metadata": {},
   "outputs": [],
   "source": [
    "if download.result is not None:\n",
    "    if (download.result[1] == \"CSV\")  :\n",
    "        grid = Simulator.dataGriddingWidget(download.result[0], marker=False, dataColumn=4)\n",
    "        display(grid)\n",
    "    else:\n",
    "        grid = Simulator.dataGridGeoref(download.result[0])\n",
    "        display(grid)"
   ]
  },
  {
   "cell_type": "markdown",
   "metadata": {},
   "source": [
    "# Specify the grid extent\n",
    "\n",
    "Run the cell below. Here, you can choose a subset of data by moving and resizing the data window (black square in the left image). The selected data are shown in the map on the right. If you are using the global EMAG2 example dataset, you can try windowing to -124 East (Longitude), and 49 North (Latitude) with Vancouver at the center. \n",
    "\n",
    "The windowed data can be exported as a located image (GeoTiff). Give your file a unique name in the **'GeoTiff name'** box, and click on the **'Export geoTiff'** button. Specify the preferred coordinate system for your exported map in the EPSG code box. **If you are working online**, the exported file will be temporarily stored on the cloud in the Notebooks/Output folder accessed by clicking on the Jupyter icon (dashboard) in the top right hand corner of this notebook. \n",
    "\n",
    "![dashboard](./images/jupyter_icon_top_right_10_per_ppt.PNG)\n",
    "\n",
    "![output](./images/notebook_output_15per_ppt.png)\n",
    "\n",
    "\n",
    "[**If you have installed the Toolkit locally**](http://toolkit.geosci.xyz/content/installation.html), and you are running the notebook locally, the file will be stored in the Notebooks/Output folder on your computer. "
   ]
  },
  {
   "cell_type": "code",
   "execution_count": null,
   "metadata": {},
   "outputs": [],
   "source": [
    "if download.result is not None:\n",
    "    selection = Simulator.setDataExtentWidget(grid.result)\n",
    "    display(selection)"
   ]
  },
  {
   "cell_type": "markdown",
   "metadata": {},
   "source": [
    "# Data visualization\n",
    "\n",
    "Run the cell below. You can apply some basic visual enhancements here, and export the map. Or you can continue to the following cells to try 2D filters and tilt-depth estimation. If you change the data window size or location, you will have to re-run the subsequent cells. \n",
    "\n",
    "The finished map can be exported as a located image (GeoTiff) and loaded into any software that accepts these types of files, including Google Earth Pro and ArcMap. Give your file a unique name in the **'GeoTiff name'** box, and click on the **'Export geoTiff'** button. Specify the preferred coordinate system for your exported map in the EPSG code box. **If you are working online**, the exported file will be temporarily stored on the cloud in the Notebooks/Output folder accessed by clicking on the Jupyter icon (dashboard) in the top right hand corner of this notebook. \n",
    "\n",
    "![dashboard](./images/jupyter_icon_top_right_10_per_ppt.PNG)\n",
    "\n",
    "![output](./images/notebook_output_15per_ppt.png)\n",
    "\n",
    "\n",
    "[**If you have installed the Toolkit locally**](http://toolkit.geosci.xyz/content/installation.html), and you are running the notebook locally, the file will be stored in the Notebooks/Output folder on your computer. "
   ]
  },
  {
   "cell_type": "code",
   "execution_count": null,
   "metadata": {},
   "outputs": [],
   "source": [
    "if download.result is not None:\n",
    "    view = Simulator.dataHillsideWidget(selection.result)\n",
    "    display(view)"
   ]
  },
  {
   "cell_type": "markdown",
   "metadata": {},
   "source": [
    "# 2D filters\n",
    "\n",
    "Run the cell below to apply 2D data filters to your data. You can refer back to sections [2.1.4 (Synthetic case study)](http://toolkit.geosci.xyz/content/Demos/SyntheticFilters.html#synthetic-2d-magnetic-data-filters) and [2.2.2 (Geoscience BC Search II case study)](http://toolkit.geosci.xyz/content/Demos/SearchFilters.html#search-case-study-2d-magnetic-data-filters) to review applications of 2D filters. See the Data visualization section above for instructions on map export.\n"
   ]
  },
  {
   "cell_type": "code",
   "execution_count": null,
   "metadata": {},
   "outputs": [],
   "source": [
    "if download.result is not None:\n",
    "    view = Simulator.gridFiltersWidget(selection.result)\n",
    "    display(view)"
   ]
  },
  {
   "cell_type": "markdown",
   "metadata": {},
   "source": [
    "# Tilt-depth depth to source estimation\n",
    "\n",
    "Run the cell below to try source edge and depth estimation using the tilt-depth method. You can refer back to sections [2.1.5 (Synthetic case study)](http://toolkit.geosci.xyz/content/Demos/SyntheticTiltDepth.html#synthetic-edge-detection-and-depth-to-source) and [2.2.3 (Geoscience BC Search II case study)](http://toolkit.geosci.xyz/content/Demos/SearchTiltDepth.html#search-case-study-edge-detection-and-depth-to-source) to review applications of 2D filters. See the Data visualization section above for instructions on map export."
   ]
  },
  {
   "cell_type": "code",
   "execution_count": null,
   "metadata": {},
   "outputs": [],
   "source": [
    "if download.result is not None:\n",
    "    view = Simulator.gridTilt2Depth(selection.result)\n",
    "    display(view)"
   ]
  },
  {
   "cell_type": "markdown",
   "metadata": {},
   "source": [
    " "
   ]
  }
 ],
 "metadata": {
  "kernelspec": {
   "display_name": "Python 3",
   "language": "python",
   "name": "python3"
  },
  "language_info": {
   "codemirror_mode": {
    "name": "ipython",
    "version": 3
   },
   "file_extension": ".py",
   "mimetype": "text/x-python",
   "name": "python",
   "nbconvert_exporter": "python",
   "pygments_lexer": "ipython3",
   "version": "3.7.4"
  }
 },
 "nbformat": 4,
 "nbformat_minor": 2
}
