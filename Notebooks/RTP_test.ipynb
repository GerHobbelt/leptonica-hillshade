{
 "cells": [
  {
   "cell_type": "code",
   "execution_count": null,
   "metadata": {},
   "outputs": [],
   "source": [
    "from GeoToolkit.Mag import Mag, ProblemSetter, MathUtils, Simulator, DataIO\n",
    "import numpy as np\n",
    "import matplotlib.pyplot as plt"
   ]
  },
  {
   "cell_type": "code",
   "execution_count": null,
   "metadata": {},
   "outputs": [],
   "source": [
    "# Create a grid of locations\n",
    "X, Y = np.meshgrid(np.linspace(-15, 15, 21),np.linspace(-15, 15, 21))\n",
    "Z = np.ones_like(X) * 5\n",
    "\n",
    "survey, mesh, model = ProblemSetter.setSyntheticProblem(np.c_[X.flatten(), Y.flatten(), Z.flatten()], EarthField=[50000, 90, 0])"
   ]
  },
  {
   "cell_type": "code",
   "execution_count": null,
   "metadata": {},
   "outputs": [],
   "source": [
    "inc, dec = -45, 30\n",
    "\n",
    "survey = Mag.createMagSurvey(np.c_[X.flatten(), Y.flatten(), Z.flatten()], EarthField=[50000, inc, dec])\n",
    "prism = Simulator.definePrism()\n",
    "prob = Mag.Problem(prism=prism, survey=survey)\n",
    "\n",
    "survey._dobs=prob.fields()[0]"
   ]
  },
  {
   "cell_type": "code",
   "execution_count": null,
   "metadata": {},
   "outputs": [],
   "source": [
    "# Simulator.ViewMagSurveyWidget(survey)\n"
   ]
  },
  {
   "cell_type": "code",
   "execution_count": null,
   "metadata": {},
   "outputs": [],
   "source": [
    "grid = DataIO.dataGrid()\n",
    "\n",
    "grid._values = survey.dobs.reshape(X.shape)\n",
    "grid.nx, grid.ny = grid.values.shape[1], grid.values.shape[0]\n",
    "\n",
    "grid.dx = (X.max() - X.min()) / (grid.values.shape[1] - 1)\n",
    "grid.dy = (Y.max() - Y.min()) / (grid.values.shape[0] - 1)\n",
    "\n",
    "grid.x0, grid.y0 = X.min()-grid.dx/2., Y.min()-grid.dy/2.\n",
    "\n",
    "grid.limits = np.r_[grid.x0, grid.x0+grid.nx*grid.dx, grid.y0, grid.y0+grid.ny*grid.dy]\n",
    "        \n",
    "grid.inc, grid.dec = inc, dec\n",
    "\n"
   ]
  },
  {
   "cell_type": "code",
   "execution_count": null,
   "metadata": {},
   "outputs": [],
   "source": [
    "axs = plt.subplot()\n",
    "out = Simulator.plotDataHillside(\n",
    "        grid.hx, grid.hy, grid.values, axs=axs, alpha=1, alphaHS=0, equalizeHist=False)\n",
    "\n",
    "axs.set_aspect('equal')"
   ]
  },
  {
   "cell_type": "code",
   "execution_count": null,
   "metadata": {},
   "outputs": [],
   "source": [
    "# Rotate the fields\n",
    "grid.setRTP(True)\n",
    "axs = plt.subplot()\n",
    "out = Simulator.plotDataHillside(\n",
    "        grid.hx, grid.hy, grid.values, axs=axs, alpha=1, alphaHS=0, equalizeHist=False)\n",
    "\n",
    "axs.set_aspect('equal')"
   ]
  },
  {
   "cell_type": "code",
   "execution_count": null,
   "metadata": {},
   "outputs": [],
   "source": []
  },
  {
   "cell_type": "code",
   "execution_count": null,
   "metadata": {},
   "outputs": [],
   "source": []
  }
 ],
 "metadata": {
  "kernelspec": {
   "display_name": "Python 3",
   "language": "python",
   "name": "python3"
  },
  "language_info": {
   "codemirror_mode": {
    "name": "ipython",
    "version": 3
   },
   "file_extension": ".py",
   "mimetype": "text/x-python",
   "name": "python",
   "nbconvert_exporter": "python",
   "pygments_lexer": "ipython3",
   "version": "3.7.3"
  }
 },
 "nbformat": 4,
 "nbformat_minor": 2
}
