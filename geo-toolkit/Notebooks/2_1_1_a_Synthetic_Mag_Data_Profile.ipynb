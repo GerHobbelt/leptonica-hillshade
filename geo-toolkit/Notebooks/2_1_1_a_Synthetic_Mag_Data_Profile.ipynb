{
 "cells": [
  {
   "cell_type": "markdown",
   "metadata": {},
   "source": [
    "<img src=\"./images/synthetic_profile.PNG\" align=\"right\" alt=\"drawing\" style=\"width:400px;\"/>\n",
    "\n",
    "# 2.1.1.a.\tSynthetic - Magnetic Data Response - Profile#\n",
    "\n",
    "\n",
    "## Magnetic response of a simple geologic model\n",
    "\n",
    "As discussed on the website in the [Synthetic - Magnetic Data Response Section](http://toolkit.geosci.xyz/content/Demos/SyntheticMagResponse.html#magnetic-response-of-a-simple-geologic-model), the magnetic response (total field anomaly) of the geologic model is calculated on a series of east-west flight lines running roughly perpendicular to the general strike of geologic boundaries and structures featured in the model. Flight line spacing is 200 m. Observations are at the Earth's surface. Topography is assumed to be flat in this example. \n",
    "\n",
    "To run the notebook cell below and view an east-west profile through the magnetic data, select the cell (greyed box below with \"## Load all libraries...\") and press **[Shift+Enter]**, or select the cell and click on the **'Run'** button in the menu at the top of the notebook. ![runcell](./images/runcell_30per_ppt.PNG)\n",
    "\n",
    "The magnetic data are in nanoteslas (nT). The profile location can be changed using the slider bars (labelled East, North, Azimuth, and Length), and the number of sampling points can be varied by typing a number into the box labelled **'Sampling'**.\n",
    "\n",
    "The responses of the smaller and larger magnetic blocks are obvious in the profile, and occur directly over the sources (due to the magnetic field inclination being vertical in this example). The fault within the large eastern magnetic block is observed as a more subtle dip in the magnetic response, offset to the east as a result of it's eastward dip.\n"
   ]
  },
  {
   "cell_type": "code",
   "execution_count": null,
   "metadata": {},
   "outputs": [],
   "source": [
    "## Load all libraries and setup the synthetic problem\n",
    "from GeoToolkit.Mag import Simulator, DataIO\n",
    "dataGrid = DataIO.loadGeoTiffFile(\"./assets/Synthetic/DataGrid.tiff\", plotIt=False)\n",
    "param = Simulator.ViewMagSurveyWidget(dataGrid, shapeFile='./assets/Synthetic/Synthetic_Zcontours.shp')\n",
    "display(param)"
   ]
  },
  {
   "cell_type": "markdown",
   "metadata": {},
   "source": [
    " "
   ]
  }
 ],
 "metadata": {
  "kernelspec": {
   "display_name": "Python 3",
   "language": "python",
   "name": "python3"
  },
  "language_info": {
   "codemirror_mode": {
    "name": "ipython",
    "version": 3
   },
   "file_extension": ".py",
   "mimetype": "text/x-python",
   "name": "python",
   "nbconvert_exporter": "python",
   "pygments_lexer": "ipython3",
   "version": "3.7.0"
  }
 },
 "nbformat": 4,
 "nbformat_minor": 2
}
