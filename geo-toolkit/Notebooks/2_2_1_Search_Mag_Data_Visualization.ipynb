{
 "cells": [
  {
   "cell_type": "markdown",
   "metadata": {},
   "source": [
    "<a href=\"http://toolkit.geosci.xyz\"><img src=\"./images/SearchQuestII.png\" alt=\"http://toolkit.geosci.xyz\" align=\"right\" width=\"300\"></a>\n",
    "\n",
    "# 2.2.1.\tSearch Case Study - Magnetic Data Visualization#\n",
    "\n",
    "\n",
    "## Magnetic response over the Search Phase II project area\n",
    "\n",
    "As discussed in the [Search Data Case Study Introduction](http://toolkit.geosci.xyz/content/Demos/SearchExample.html#case-study-using-geoscience-bc-search-ii-data), gridded residual magnetic data from Geoscience BC's Search Phase II project (Anomalous Magnetic Field) were downloaded from the [Search II project page](http://www.geosciencebc.com/s/Report2017-03.asp) on Geoscience BC's website. The magnetic data is interpolated onto a 50 $m^2$ grid. The data are shown using coordinate system NAD 83 UTM Zone 9. \n",
    "\n",
    "Run the notebook cells below and explore data visualization options discussed in the [Search Case Study - Data Visualization section ](http://toolkit.geosci.xyz/content/Demos/SearchVis.html#search-case-study-magnetic-data-visualization). As you move down the page, select each cell below (greyed boxes) and press **[Shift+Enter]**, or select each cell and click on the **'Run'** button in the menu at the top of the notebook. ![runcell](./images/runcell_30per_ppt.PNG)\n"
   ]
  },
  {
   "cell_type": "code",
   "execution_count": null,
   "metadata": {},
   "outputs": [],
   "source": [
    "## Load all libraries and setup the synthetic problem\n",
    "from GeoToolkit.Mag import Simulator, DataIO\n",
    "dataGrid = DataIO.loadGeoTiffFile(\"./assets/Search/MAG_UTM09.tiff\")"
   ]
  },
  {
   "cell_type": "markdown",
   "metadata": {},
   "source": [
    "## Define a project area\n",
    "\n",
    "Let's choose a subset of data to view more closely by running the below cell. The map on the left below shows the full Search Phase II magnetic dataset with a movable 'window' outlined in black, and the map on the right shows just the data encompassed by the window. The window can be resized and moved anywhere over the data using the slider bars (East, North, Width, and Height). The default window is 30 km x 30 km in size, a size typical of surveys flown to explore magnetic responses at the exploration property, or district scale."
   ]
  },
  {
   "cell_type": "code",
   "execution_count": null,
   "metadata": {},
   "outputs": [],
   "source": [
    "selection = Simulator.setDataExtentWidget(dataGrid, East=669500, North=6069500, nCx=600, nCy=600)\n",
    "display(selection)"
   ]
  },
  {
   "cell_type": "markdown",
   "metadata": {},
   "source": [
    "## Profile the data\n",
    "Run the cell below to view a profile through the magnetic data. Use the slider bars to change the location, orientation, and length of the profile. The sampling rate along the profile can also be changed by typing a number into the box labelled **'Sampling'**.  "
   ]
  },
  {
   "cell_type": "code",
   "execution_count": null,
   "metadata": {},
   "outputs": [],
   "source": [
    "view = Simulator.ViewMagSurveyWidget(selection.result)\n",
    "display(view)"
   ]
  },
  {
   "cell_type": "markdown",
   "metadata": {},
   "source": [
    "## Data visualization and image enhancement\n",
    "\n",
    "As in the synthetic model example presented previously, we can explore different ways of presenting and enhancing the magnetic image to find optimal visual parameters for interpreting features of interest.  \n",
    "\n",
    "Use the slider bars below to change the direction (**SunAzimuth**) and angle (**SunAngle**) of sun shading, to vary color transparency (**ColorTransp**) and hillshade transparency (**HSTransp**), change the vertical scale (**vScale**) and to manipulate magnetic contour lines (**Contours**).\n",
    "\n",
    "**Contours** can be set manually by entering unique values surch as -100, and/or a range of values with increment such as 100:50:500\n",
    "For example: -100,100:50:500 => will generate a contour line at -100 and a range of contours between 100 and 500, incrementing at 50.\n",
    "   \n",
    "Again, we have the option to change the color map using the **'ColorMap'** drop-down menu, or the color stretch using the **'Color Norm'** drop-down menu. The color range can be clipped using the **'Color Range'** slider bar. \n",
    "\n",
    "Try different combinations of sun-shading and color settings to see how the image and visibilty of different features is affected.\n",
    "\n",
    "The finished map can be exported as a located image (GeoTiff) and loaded into any software that accepts these types of files, including Google Earth Pro and ArcMap. Try it! Give your file a unique name in the **'GeoTiff name'** box, and click on the **'Export geoTiff'** button. The coordinate system the Search Phase II data files are exported in is NAD 83 UTM Zone 9, EPSG code 26909, unless a new EPSG code is specified in the EPSG code box. **If you are working online**, the exported file will be temporarily stored on the cloud in the Notebooks/Output folder accessed by clicking on the Jupyter icon (dashboard) in the top right hand corner of this notebook. \n",
    "\n",
    "![dashboard](./images/jupyter_icon_top_right_10_per_ppt.PNG)\n",
    "\n",
    "![output](./images/notebook_output_15per_ppt.png)\n",
    "\n",
    "\n",
    "[**If you have installed the Toolkit locally**](http://toolkit.geosci.xyz/content/installation.html), and you are running the notebook locally, the file will be stored in the Notebooks/Output folder on your computer.\n"
   ]
  },
  {
   "cell_type": "code",
   "execution_count": null,
   "metadata": {},
   "outputs": [],
   "source": [
    "view = Simulator.dataHillsideWidget(selection.result, dpi=200, Contours=\"-100,0:200:2000\")\n",
    "display(view)"
   ]
  },
  {
   "cell_type": "markdown",
   "metadata": {},
   "source": [
    "  "
   ]
  }
 ],
 "metadata": {
  "kernelspec": {
   "display_name": "Python 3",
   "language": "python",
   "name": "python3"
  },
  "language_info": {
   "codemirror_mode": {
    "name": "ipython",
    "version": 3
   },
   "file_extension": ".py",
   "mimetype": "text/x-python",
   "name": "python",
   "nbconvert_exporter": "python",
   "pygments_lexer": "ipython3",
   "version": "3.7.0"
  }
 },
 "nbformat": 4,
 "nbformat_minor": 2
}
