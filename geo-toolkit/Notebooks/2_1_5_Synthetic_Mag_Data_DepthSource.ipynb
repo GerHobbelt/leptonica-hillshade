{
 "cells": [
  {
   "cell_type": "markdown",
   "metadata": {},
   "source": [
    "<img src=\"./images/tilt_synthetic_edges_depths_grey.PNG\" align=\"right\" alt=\"drawing\" style=\"width:300px;\"/>\n",
    "\n",
    "# 2.1.5.\tSynthetic - Edge Detection and Depth to Source#\n",
    "\n",
    "\n",
    "In this notebook, we will find the edges and depths of both the small high magnetic susceptibility body and the larger magnetic block in the 3D synthetic geologic model. We will use the **tilt-depth method** described in the [Synthetic - Edge Detection and Depth to Source section](http://toolkit.geosci.xyz/content/Demos/SyntheticTiltDepth.html#synthetic-edge-detection-and-depth-to-source). Depth can be estimated where the tilt angle is zero, at the edge or margin of a feature or source. Depth to the edge of a source is then approximately half the distance between the +45 degree and -45 degree contours of the calculated tilt angle.\n",
    "\n",
    "Inclination must be 90, thus reduced to pole data is used in this calculation. This method assumes that the magnetic body is simple and also vertically-sided, which means that the depth estimation will be less accurate for dipping bodies or bodies with complex margins.\n",
    "\n",
    "To run the widget, select each cell below (greyed boxes below with \"## Load all libraries...\" and \"view = Simulator.gridTilt2Depth...\") and press **[Shift+Enter]**, or select each cell and click on the **'Run'** button in the menu at the top of the notebook. ![runcell](./images/runcell_30per_ppt.PNG)\n",
    "\n",
    "## Tilt-depth\n",
    "\n",
    "By running the below cell, the tilt-depth is automatically calculated and displayed as colored markers superimposed on the tilt angle map. **Note: the 'depth' value here is not depth from surface, but rather distance from the magnetic sensor (or distance from observations).** In this synthetic example, the observation height is 0 m on average.  \n",
    "  \n",
    "Use the **'Grid Filters'** drop-down menu to choose either the tilt angle or the TMI as a background image. ![gridfiltertilt](./images/grid_filters_dropdown_tilt_50per_ppt.PNG)\n",
    "\n",
    "You can change the color map for the depth markers using the **'Depth Color'** drop-down, and you can also change the marker size using the **'Marker Size'** slider bar. ![depthcolor](./images/depthcolor_50per_ppt.png)\n",
    "\n",
    "The options to change the sun-shading azimuth, angle, and transparency, as well as the color map, are retained from the visualization notebook (notebook 2.1.3).\n",
    "\n",
    "Change the upward continuation height, or distance, using the slider bar labelled **'UpC'** (the default is 0 m, so you will need to change it to observe a change in the data): ![upwarddistSlider](./images/updist_height_upC_50per_ppt.PNG)"
   ]
  },
  {
   "cell_type": "code",
   "execution_count": null,
   "metadata": {},
   "outputs": [],
   "source": [
    "## Load all libraries and setup the synthetic problem\n",
    "from GeoToolkit.Mag import Simulator, DataIO\n",
    "dataGrid = DataIO.loadGeoTiffFile(\"./assets/Synthetic/DataGrid.tiff\")"
   ]
  },
  {
   "cell_type": "code",
   "execution_count": null,
   "metadata": {},
   "outputs": [],
   "source": [
    "view = Simulator.gridTilt2Depth(dataGrid, HSTransp=0, ColorMap='Greys_r', shapeFile='./assets/Synthetic/Synthetic_Zcontours.shp', omit=['GridFileName', \"EPSGcode\", 'SaveGrid', 'ShapeFileName', 'SaveShape'])\n",
    "display(view)"
   ]
  },
  {
   "cell_type": "markdown",
   "metadata": {},
   "source": [
    "  "
   ]
  }
 ],
 "metadata": {
  "kernelspec": {
   "display_name": "Python 3",
   "language": "python",
   "name": "python3"
  },
  "language_info": {
   "codemirror_mode": {
    "name": "ipython",
    "version": 3
   },
   "file_extension": ".py",
   "mimetype": "text/x-python",
   "name": "python",
   "nbconvert_exporter": "python",
   "pygments_lexer": "ipython3",
   "version": "3.7.0"
  }
 },
 "nbformat": 4,
 "nbformat_minor": 2
}
